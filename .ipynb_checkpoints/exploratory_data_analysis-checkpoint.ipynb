{
 "cells": [
  {
   "cell_type": "markdown",
   "id": "c41ed3ad",
   "metadata": {},
   "source": [
    "데이터 출처: https://www.kaggle.com/datasets/rsrishav/youtube-trending-video-dataset"
   ]
  },
  {
   "cell_type": "markdown",
   "id": "98412fff",
   "metadata": {},
   "source": [
    "## 1. 데이터 탐색"
   ]
  },
  {
   "cell_type": "code",
   "execution_count": 28,
   "id": "ac096c2b",
   "metadata": {},
   "outputs": [],
   "source": [
    "import pandas as pd\n",
    "import numpy as np\n",
    "\n",
    "import matplotlib.pyplot as plt\n",
    "import seaborn as sns\n",
    "\n",
    "from scipy.stats import spearmanr\n",
    "from scipy.cluster import hierarchy"
   ]
  },
  {
   "cell_type": "markdown",
   "id": "aed193e1",
   "metadata": {},
   "source": [
    "### 1-1. 데이터 로딩"
   ]
  },
  {
   "cell_type": "code",
   "execution_count": 2,
   "id": "42458baf",
   "metadata": {},
   "outputs": [],
   "source": [
    "raw_data = pd.read_csv('./data/KR_youtube_trending_data_220722.csv')"
   ]
  },
  {
   "cell_type": "code",
   "execution_count": 3,
   "id": "c791397f",
   "metadata": {},
   "outputs": [
    {
     "data": {
      "text/plain": [
       "(139754, 16)"
      ]
     },
     "execution_count": 3,
     "metadata": {},
     "output_type": "execute_result"
    }
   ],
   "source": [
    "raw_data.shape"
   ]
  },
  {
   "cell_type": "code",
   "execution_count": 4,
   "id": "1da1a21d",
   "metadata": {},
   "outputs": [
    {
     "data": {
      "text/html": [
       "<div>\n",
       "<style scoped>\n",
       "    .dataframe tbody tr th:only-of-type {\n",
       "        vertical-align: middle;\n",
       "    }\n",
       "\n",
       "    .dataframe tbody tr th {\n",
       "        vertical-align: top;\n",
       "    }\n",
       "\n",
       "    .dataframe thead th {\n",
       "        text-align: right;\n",
       "    }\n",
       "</style>\n",
       "<table border=\"1\" class=\"dataframe\">\n",
       "  <thead>\n",
       "    <tr style=\"text-align: right;\">\n",
       "      <th></th>\n",
       "      <th>video_id</th>\n",
       "      <th>title</th>\n",
       "      <th>publishedAt</th>\n",
       "      <th>channelId</th>\n",
       "      <th>channelTitle</th>\n",
       "      <th>categoryId</th>\n",
       "      <th>trending_date</th>\n",
       "      <th>tags</th>\n",
       "      <th>view_count</th>\n",
       "      <th>likes</th>\n",
       "      <th>dislikes</th>\n",
       "      <th>comment_count</th>\n",
       "      <th>thumbnail_link</th>\n",
       "      <th>comments_disabled</th>\n",
       "      <th>ratings_disabled</th>\n",
       "      <th>description</th>\n",
       "    </tr>\n",
       "  </thead>\n",
       "  <tbody>\n",
       "    <tr>\n",
       "      <th>0</th>\n",
       "      <td>uq5LClQN3cE</td>\n",
       "      <td>안녕하세요 보겸입니다</td>\n",
       "      <td>2020-08-09T09:32:48Z</td>\n",
       "      <td>UCu9BCtGIEr73LXZsKmoujKw</td>\n",
       "      <td>보겸 BK</td>\n",
       "      <td>24</td>\n",
       "      <td>2020-08-12T00:00:00Z</td>\n",
       "      <td>보겸|bokyem</td>\n",
       "      <td>5947503</td>\n",
       "      <td>53326</td>\n",
       "      <td>105756</td>\n",
       "      <td>139946</td>\n",
       "      <td>https://i.ytimg.com/vi/uq5LClQN3cE/default.jpg</td>\n",
       "      <td>False</td>\n",
       "      <td>False</td>\n",
       "      <td>NaN</td>\n",
       "    </tr>\n",
       "    <tr>\n",
       "      <th>1</th>\n",
       "      <td>I-ZbZCHsHD0</td>\n",
       "      <td>부락토스의 계획 [총몇명 프리퀄]</td>\n",
       "      <td>2020-08-12T09:00:08Z</td>\n",
       "      <td>UCRuSxVu4iqTK5kCh90ntAgA</td>\n",
       "      <td>총몇명</td>\n",
       "      <td>1</td>\n",
       "      <td>2020-08-12T00:00:00Z</td>\n",
       "      <td>총몇명|재밌는 만화|부락토스|루시퍼|총몇명 프리퀄|총몇명 스토리</td>\n",
       "      <td>963384</td>\n",
       "      <td>28244</td>\n",
       "      <td>494</td>\n",
       "      <td>3339</td>\n",
       "      <td>https://i.ytimg.com/vi/I-ZbZCHsHD0/default.jpg</td>\n",
       "      <td>False</td>\n",
       "      <td>False</td>\n",
       "      <td>오늘도 정말 감사드립니다!!총몇명 스튜디오 - 총몇명, 십제곱, 5G민, MOVE혁...</td>\n",
       "    </tr>\n",
       "    <tr>\n",
       "      <th>2</th>\n",
       "      <td>9d7jNUjBoss</td>\n",
       "      <td>평생 반성하면서 살겠습니다.</td>\n",
       "      <td>2020-08-10T09:54:13Z</td>\n",
       "      <td>UCMVC92EOs9yDJG5JS-CMesQ</td>\n",
       "      <td>양팡 YangPang</td>\n",
       "      <td>22</td>\n",
       "      <td>2020-08-12T00:00:00Z</td>\n",
       "      <td>양팡|양팡유튜브|팡튜브|가족시트콤|양팡가족|양팡가족시트콤|양팡언니|현실남매|현실자매...</td>\n",
       "      <td>2950885</td>\n",
       "      <td>17974</td>\n",
       "      <td>68898</td>\n",
       "      <td>50688</td>\n",
       "      <td>https://i.ytimg.com/vi/9d7jNUjBoss/default.jpg</td>\n",
       "      <td>False</td>\n",
       "      <td>False</td>\n",
       "      <td>NaN</td>\n",
       "    </tr>\n",
       "    <tr>\n",
       "      <th>3</th>\n",
       "      <td>3pI_L3-sMVg</td>\n",
       "      <td>안녕하세요 꽈뚜룹입니다.</td>\n",
       "      <td>2020-08-11T15:00:58Z</td>\n",
       "      <td>UCkQCwnkQfgSuPTTnw_Y7v7w</td>\n",
       "      <td>꽈뚜룹 Quaddurup</td>\n",
       "      <td>24</td>\n",
       "      <td>2020-08-12T00:00:00Z</td>\n",
       "      <td>꽈뚜룹|한국여행기|quaddurup|뚜룹이|korea|southkorea|vlog|...</td>\n",
       "      <td>1743374</td>\n",
       "      <td>36893</td>\n",
       "      <td>1798</td>\n",
       "      <td>8751</td>\n",
       "      <td>https://i.ytimg.com/vi/3pI_L3-sMVg/default.jpg</td>\n",
       "      <td>False</td>\n",
       "      <td>False</td>\n",
       "      <td>앞으로 좀 더 깔끔한 영상제작 약속 드리겠습니다.늘 감사드립니다</td>\n",
       "    </tr>\n",
       "    <tr>\n",
       "      <th>4</th>\n",
       "      <td>zrsBjYukE8s</td>\n",
       "      <td>박진영 (J.Y. Park) When We Disco (Duet with 선미) M/V</td>\n",
       "      <td>2020-08-11T09:00:13Z</td>\n",
       "      <td>UCaO6TYtlC8U5ttz62hTrZgg</td>\n",
       "      <td>JYP Entertainment</td>\n",
       "      <td>10</td>\n",
       "      <td>2020-08-12T00:00:00Z</td>\n",
       "      <td>JYP Entertainment|JYP|J.Y.Park|JYPark|박진영|선미|S...</td>\n",
       "      <td>3433885</td>\n",
       "      <td>353337</td>\n",
       "      <td>9763</td>\n",
       "      <td>23405</td>\n",
       "      <td>https://i.ytimg.com/vi/zrsBjYukE8s/default.jpg</td>\n",
       "      <td>False</td>\n",
       "      <td>False</td>\n",
       "      <td>MelOn http://kko.to/TWyXd7zYjSpotify https://s...</td>\n",
       "    </tr>\n",
       "  </tbody>\n",
       "</table>\n",
       "</div>"
      ],
      "text/plain": [
       "      video_id                                             title  \\\n",
       "0  uq5LClQN3cE                                       안녕하세요 보겸입니다   \n",
       "1  I-ZbZCHsHD0                                부락토스의 계획 [총몇명 프리퀄]   \n",
       "2  9d7jNUjBoss                                   평생 반성하면서 살겠습니다.   \n",
       "3  3pI_L3-sMVg                              안녕하세요 꽈뚜룹입니다.   \n",
       "4  zrsBjYukE8s  박진영 (J.Y. Park) When We Disco (Duet with 선미) M/V   \n",
       "\n",
       "            publishedAt                 channelId       channelTitle  \\\n",
       "0  2020-08-09T09:32:48Z  UCu9BCtGIEr73LXZsKmoujKw              보겸 BK   \n",
       "1  2020-08-12T09:00:08Z  UCRuSxVu4iqTK5kCh90ntAgA                총몇명   \n",
       "2  2020-08-10T09:54:13Z  UCMVC92EOs9yDJG5JS-CMesQ        양팡 YangPang   \n",
       "3  2020-08-11T15:00:58Z  UCkQCwnkQfgSuPTTnw_Y7v7w      꽈뚜룹 Quaddurup   \n",
       "4  2020-08-11T09:00:13Z  UCaO6TYtlC8U5ttz62hTrZgg  JYP Entertainment   \n",
       "\n",
       "   categoryId         trending_date  \\\n",
       "0          24  2020-08-12T00:00:00Z   \n",
       "1           1  2020-08-12T00:00:00Z   \n",
       "2          22  2020-08-12T00:00:00Z   \n",
       "3          24  2020-08-12T00:00:00Z   \n",
       "4          10  2020-08-12T00:00:00Z   \n",
       "\n",
       "                                                tags  view_count   likes  \\\n",
       "0                                          보겸|bokyem     5947503   53326   \n",
       "1                총몇명|재밌는 만화|부락토스|루시퍼|총몇명 프리퀄|총몇명 스토리      963384   28244   \n",
       "2  양팡|양팡유튜브|팡튜브|가족시트콤|양팡가족|양팡가족시트콤|양팡언니|현실남매|현실자매...     2950885   17974   \n",
       "3  꽈뚜룹|한국여행기|quaddurup|뚜룹이|korea|southkorea|vlog|...     1743374   36893   \n",
       "4  JYP Entertainment|JYP|J.Y.Park|JYPark|박진영|선미|S...     3433885  353337   \n",
       "\n",
       "   dislikes  comment_count                                  thumbnail_link  \\\n",
       "0    105756         139946  https://i.ytimg.com/vi/uq5LClQN3cE/default.jpg   \n",
       "1       494           3339  https://i.ytimg.com/vi/I-ZbZCHsHD0/default.jpg   \n",
       "2     68898          50688  https://i.ytimg.com/vi/9d7jNUjBoss/default.jpg   \n",
       "3      1798           8751  https://i.ytimg.com/vi/3pI_L3-sMVg/default.jpg   \n",
       "4      9763          23405  https://i.ytimg.com/vi/zrsBjYukE8s/default.jpg   \n",
       "\n",
       "   comments_disabled  ratings_disabled  \\\n",
       "0              False             False   \n",
       "1              False             False   \n",
       "2              False             False   \n",
       "3              False             False   \n",
       "4              False             False   \n",
       "\n",
       "                                         description  \n",
       "0                                                NaN  \n",
       "1  오늘도 정말 감사드립니다!!총몇명 스튜디오 - 총몇명, 십제곱, 5G민, MOVE혁...  \n",
       "2                                                NaN  \n",
       "3                앞으로 좀 더 깔끔한 영상제작 약속 드리겠습니다.늘 감사드립니다  \n",
       "4  MelOn http://kko.to/TWyXd7zYjSpotify https://s...  "
      ]
     },
     "execution_count": 4,
     "metadata": {},
     "output_type": "execute_result"
    }
   ],
   "source": [
    "raw_data.head()"
   ]
  },
  {
   "cell_type": "code",
   "execution_count": 5,
   "id": "06693811",
   "metadata": {
    "scrolled": true
   },
   "outputs": [
    {
     "name": "stdout",
     "output_type": "stream",
     "text": [
      "<class 'pandas.core.frame.DataFrame'>\n",
      "RangeIndex: 139754 entries, 0 to 139753\n",
      "Data columns (total 16 columns):\n",
      " #   Column             Non-Null Count   Dtype \n",
      "---  ------             --------------   ----- \n",
      " 0   video_id           139754 non-null  object\n",
      " 1   title              139754 non-null  object\n",
      " 2   publishedAt        139754 non-null  object\n",
      " 3   channelId          139754 non-null  object\n",
      " 4   channelTitle       139754 non-null  object\n",
      " 5   categoryId         139754 non-null  int64 \n",
      " 6   trending_date      139754 non-null  object\n",
      " 7   tags               139754 non-null  object\n",
      " 8   view_count         139754 non-null  int64 \n",
      " 9   likes              139754 non-null  int64 \n",
      " 10  dislikes           139754 non-null  int64 \n",
      " 11  comment_count      139754 non-null  int64 \n",
      " 12  thumbnail_link     139754 non-null  object\n",
      " 13  comments_disabled  139754 non-null  bool  \n",
      " 14  ratings_disabled   139754 non-null  bool  \n",
      " 15  description        136183 non-null  object\n",
      "dtypes: bool(2), int64(5), object(9)\n",
      "memory usage: 15.2+ MB\n"
     ]
    }
   ],
   "source": [
    "raw_data.info()"
   ]
  },
  {
   "cell_type": "markdown",
   "id": "385d10e6",
   "metadata": {},
   "source": [
    "### 1-2. 범주형 데이터 탐색"
   ]
  },
  {
   "cell_type": "code",
   "execution_count": 6,
   "id": "679c55e8",
   "metadata": {},
   "outputs": [
    {
     "data": {
      "text/plain": [
       "Index(['video_id', 'title', 'publishedAt', 'channelId', 'channelTitle',\n",
       "       'trending_date', 'tags', 'thumbnail_link', 'description'],\n",
       "      dtype='object')"
      ]
     },
     "execution_count": 6,
     "metadata": {},
     "output_type": "execute_result"
    }
   ],
   "source": [
    "raw_data.select_dtypes(include=['object']).columns"
   ]
  },
  {
   "cell_type": "markdown",
   "id": "1458598b",
   "metadata": {},
   "source": [
    "**중복 데이터 탐색**"
   ]
  },
  {
   "cell_type": "code",
   "execution_count": 7,
   "id": "8844e365",
   "metadata": {},
   "outputs": [
    {
     "name": "stdout",
     "output_type": "stream",
     "text": [
      "True     122628\n",
      "False     17126\n",
      "Name: video_id, dtype: int64\n",
      "\n",
      "\n",
      "True     121466\n",
      "False     18288\n",
      "Name: title, dtype: int64\n",
      "\n",
      "\n",
      "True     122866\n",
      "False     16888\n",
      "Name: publishedAt, dtype: int64\n",
      "\n",
      "\n",
      "True     136873\n",
      "False      2881\n",
      "Name: channelId, dtype: int64\n",
      "\n",
      "\n",
      "True     136700\n",
      "False      3054\n",
      "Name: channelTitle, dtype: int64\n",
      "\n",
      "\n",
      "True     139060\n",
      "False       694\n",
      "Name: trending_date, dtype: int64\n",
      "\n",
      "\n",
      "True     127242\n",
      "False     12512\n",
      "Name: tags, dtype: int64\n",
      "\n",
      "\n",
      "True     122628\n",
      "False     17126\n",
      "Name: thumbnail_link, dtype: int64\n",
      "\n",
      "\n",
      "True     122735\n",
      "False     17019\n",
      "Name: description, dtype: int64\n",
      "\n",
      "\n"
     ]
    }
   ],
   "source": [
    "categorical_data = raw_data.select_dtypes(include=['object']).columns\n",
    "\n",
    "for i in list(categorical_data):\n",
    "    print(raw_data[i].duplicated().value_counts())\n",
    "    print('\\n')"
   ]
  },
  {
   "cell_type": "markdown",
   "id": "52c7cb0e",
   "metadata": {},
   "source": [
    "범주형 데이터의 대부분이 중복된 데이터인 것으로 확인되었습니다. 유튜브에서 인기 동영상으로 분류한 영상은 여러 날에 걸쳐서 인기 동영상으로 지정될 수 있기 때문에 인기가 길게 이어진 영상은 중복된 데이터로 나타날 수 있는데, 이 데이터가 중복된 것이라고 해도 유의미한 데이터가 된다고 판단했습니다. 따라서 이번 프로젝트에서는 예외적으로 중복데이터를 제거하지 않고 분석을 진행합니다."
   ]
  },
  {
   "cell_type": "markdown",
   "id": "f5b5adcf",
   "metadata": {},
   "source": [
    "### 1-3. 연속형 데이터 탐색"
   ]
  },
  {
   "cell_type": "code",
   "execution_count": 8,
   "id": "f92c4bc2",
   "metadata": {},
   "outputs": [
    {
     "data": {
      "text/html": [
       "<div>\n",
       "<style scoped>\n",
       "    .dataframe tbody tr th:only-of-type {\n",
       "        vertical-align: middle;\n",
       "    }\n",
       "\n",
       "    .dataframe tbody tr th {\n",
       "        vertical-align: top;\n",
       "    }\n",
       "\n",
       "    .dataframe thead th {\n",
       "        text-align: right;\n",
       "    }\n",
       "</style>\n",
       "<table border=\"1\" class=\"dataframe\">\n",
       "  <thead>\n",
       "    <tr style=\"text-align: right;\">\n",
       "      <th></th>\n",
       "      <th>categoryId</th>\n",
       "      <th>view_count</th>\n",
       "      <th>likes</th>\n",
       "      <th>dislikes</th>\n",
       "      <th>comment_count</th>\n",
       "    </tr>\n",
       "  </thead>\n",
       "  <tbody>\n",
       "    <tr>\n",
       "      <th>count</th>\n",
       "      <td>139754.000000</td>\n",
       "      <td>1.397540e+05</td>\n",
       "      <td>1.397540e+05</td>\n",
       "      <td>139754.000000</td>\n",
       "      <td>1.397540e+05</td>\n",
       "    </tr>\n",
       "    <tr>\n",
       "      <th>mean</th>\n",
       "      <td>20.417598</td>\n",
       "      <td>1.621651e+06</td>\n",
       "      <td>7.398922e+04</td>\n",
       "      <td>856.395016</td>\n",
       "      <td>8.830646e+03</td>\n",
       "    </tr>\n",
       "    <tr>\n",
       "      <th>std</th>\n",
       "      <td>6.265366</td>\n",
       "      <td>6.160196e+06</td>\n",
       "      <td>4.281377e+05</td>\n",
       "      <td>9579.868140</td>\n",
       "      <td>1.120530e+05</td>\n",
       "    </tr>\n",
       "    <tr>\n",
       "      <th>min</th>\n",
       "      <td>1.000000</td>\n",
       "      <td>0.000000e+00</td>\n",
       "      <td>0.000000e+00</td>\n",
       "      <td>0.000000</td>\n",
       "      <td>0.000000e+00</td>\n",
       "    </tr>\n",
       "    <tr>\n",
       "      <th>25%</th>\n",
       "      <td>19.000000</td>\n",
       "      <td>3.362378e+05</td>\n",
       "      <td>5.759000e+03</td>\n",
       "      <td>0.000000</td>\n",
       "      <td>5.460000e+02</td>\n",
       "    </tr>\n",
       "    <tr>\n",
       "      <th>50%</th>\n",
       "      <td>23.000000</td>\n",
       "      <td>6.532935e+05</td>\n",
       "      <td>1.161400e+04</td>\n",
       "      <td>124.000000</td>\n",
       "      <td>1.214000e+03</td>\n",
       "    </tr>\n",
       "    <tr>\n",
       "      <th>75%</th>\n",
       "      <td>24.000000</td>\n",
       "      <td>1.307435e+06</td>\n",
       "      <td>2.635100e+04</td>\n",
       "      <td>344.000000</td>\n",
       "      <td>2.861000e+03</td>\n",
       "    </tr>\n",
       "    <tr>\n",
       "      <th>max</th>\n",
       "      <td>29.000000</td>\n",
       "      <td>2.963142e+08</td>\n",
       "      <td>1.646425e+07</td>\n",
       "      <td>879358.000000</td>\n",
       "      <td>6.939302e+06</td>\n",
       "    </tr>\n",
       "  </tbody>\n",
       "</table>\n",
       "</div>"
      ],
      "text/plain": [
       "          categoryId    view_count         likes       dislikes  comment_count\n",
       "count  139754.000000  1.397540e+05  1.397540e+05  139754.000000   1.397540e+05\n",
       "mean       20.417598  1.621651e+06  7.398922e+04     856.395016   8.830646e+03\n",
       "std         6.265366  6.160196e+06  4.281377e+05    9579.868140   1.120530e+05\n",
       "min         1.000000  0.000000e+00  0.000000e+00       0.000000   0.000000e+00\n",
       "25%        19.000000  3.362378e+05  5.759000e+03       0.000000   5.460000e+02\n",
       "50%        23.000000  6.532935e+05  1.161400e+04     124.000000   1.214000e+03\n",
       "75%        24.000000  1.307435e+06  2.635100e+04     344.000000   2.861000e+03\n",
       "max        29.000000  2.963142e+08  1.646425e+07  879358.000000   6.939302e+06"
      ]
     },
     "execution_count": 8,
     "metadata": {},
     "output_type": "execute_result"
    }
   ],
   "source": [
    "raw_data.describe()"
   ]
  },
  {
   "cell_type": "code",
   "execution_count": 9,
   "id": "7d259968",
   "metadata": {},
   "outputs": [
    {
     "data": {
      "text/plain": [
       "Index(['categoryId', 'view_count', 'likes', 'dislikes', 'comment_count'], dtype='object')"
      ]
     },
     "execution_count": 9,
     "metadata": {},
     "output_type": "execute_result"
    }
   ],
   "source": [
    "raw_data.describe().columns"
   ]
  },
  {
   "cell_type": "markdown",
   "id": "45448bbf",
   "metadata": {},
   "source": [
    "#### 히스토그램"
   ]
  },
  {
   "cell_type": "code",
   "execution_count": 10,
   "id": "92669ff6",
   "metadata": {
    "scrolled": true
   },
   "outputs": [
    {
     "data": {
      "image/png": "[encoded data removed]",
      "text/plain": [
       "<Figure size 720x360 with 1 Axes>"
      ]
     },
     "metadata": {
      "needs_background": "light"
     },
     "output_type": "display_data"
    }
   ],
   "source": [
    "raw_data['view_count'].hist(bins=10, figsize=(10,5));"
   ]
  },
  {
   "cell_type": "code",
   "execution_count": 11,
   "id": "52773726",
   "metadata": {},
   "outputs": [
    {
     "data": {
      "image/png": "[encoded data removed]",
      "text/plain": [
       "<Figure size 720x360 with 1 Axes>"
      ]
     },
     "metadata": {
      "needs_background": "light"
     },
     "output_type": "display_data"
    }
   ],
   "source": [
    "raw_data['likes'].hist(bins=10, figsize=(10,5));"
   ]
  },
  {
   "cell_type": "code",
   "execution_count": 12,
   "id": "1f7dfb2a",
   "metadata": {},
   "outputs": [
    {
     "data": {
      "image/png": "[encoded data removed]",
      "text/plain": [
       "<Figure size 720x360 with 1 Axes>"
      ]
     },
     "metadata": {
      "needs_background": "light"
     },
     "output_type": "display_data"
    }
   ],
   "source": [
    "raw_data['dislikes'].hist(bins=10, figsize=(10,5));"
   ]
  },
  {
   "cell_type": "code",
   "execution_count": 13,
   "id": "65f65a42",
   "metadata": {},
   "outputs": [
    {
     "data": {
      "image/png": "[encoded data removed]",
      "text/plain": [
       "<Figure size 720x360 with 1 Axes>"
      ]
     },
     "metadata": {
      "needs_background": "light"
     },
     "output_type": "display_data"
    }
   ],
   "source": [
    "raw_data['comment_count'].hist(bins=10, figsize=(10,5));"
   ]
  },
  {
   "cell_type": "markdown",
   "id": "247854e3",
   "metadata": {},
   "source": [
    "**왜도 및 첨도 확인**"
   ]
  },
  {
   "cell_type": "code",
   "execution_count": 14,
   "id": "5e128776",
   "metadata": {},
   "outputs": [
    {
     "data": {
      "text/plain": [
       "Index(['categoryId', 'view_count', 'likes', 'dislikes', 'comment_count'], dtype='object')"
      ]
     },
     "execution_count": 14,
     "metadata": {},
     "output_type": "execute_result"
    }
   ],
   "source": [
    "raw_data.select_dtypes(include=['int']).columns"
   ]
  },
  {
   "cell_type": "code",
   "execution_count": 15,
   "id": "bca33344",
   "metadata": {},
   "outputs": [],
   "source": [
    "numerical_data = ['view_count', 'likes', 'dislikes', 'comment_count']"
   ]
  },
  {
   "cell_type": "code",
   "execution_count": 16,
   "id": "242f7e32",
   "metadata": {
    "scrolled": true
   },
   "outputs": [
    {
     "data": {
      "text/plain": [
       "view_count       20.038903\n",
       "likes            18.647525\n",
       "dislikes         60.069884\n",
       "comment_count    39.092392\n",
       "dtype: float64"
      ]
     },
     "execution_count": 16,
     "metadata": {},
     "output_type": "execute_result"
    }
   ],
   "source": [
    "# 왜도 확인\n",
    "raw_data[numerical_data].skew()"
   ]
  },
  {
   "cell_type": "markdown",
   "id": "da14af90",
   "metadata": {},
   "source": [
    "조회수, 좋아요, 싫어요, 댓글 수에서 왜도가 모두 2보다 크게 나타났습니다. 따라서 왜도 그래프는 매우 큰 값의 양수 이상치들로 인해 우측 꼬리분포 형태를 보일 것으로 판단됩니다. 왜도는 0일 경우 정규분포와 일치하여 좌우가 대칭된 형태인데, 2보다 크면 어느 한 쪽으로 치우쳐있다는 의미입니다. 왜도가 음수면 오른쪽에 자료가 더 많고 이상치는 작은 값들이 있음을 의미합니다. 왜도가 양수일 경우 왼쪽에 자료가 더 많고 이상치는 큰 값이 많다고 볼 수 있습니다."
   ]
  },
  {
   "cell_type": "code",
   "execution_count": 17,
   "id": "13d439a3",
   "metadata": {
    "scrolled": true
   },
   "outputs": [
    {
     "data": {
      "text/plain": [
       "view_count        616.506574\n",
       "likes             492.759005\n",
       "dislikes         4583.351568\n",
       "comment_count    1898.941868\n",
       "dtype: float64"
      ]
     },
     "execution_count": 17,
     "metadata": {},
     "output_type": "execute_result"
    }
   ],
   "source": [
    "# 첨도 확인\n",
    "raw_data[numerical_data].kurtosis()"
   ]
  },
  {
   "cell_type": "markdown",
   "id": "a137fd32",
   "metadata": {},
   "source": [
    "조회수, 좋아요, 싫어요, 댓글수의 첨도가 각각 616, 492, 4583, 1898로 매우 높습니다. 첨도가 0이면 정규분포의 높이와 동일합니다. 값이 클수록 중심에 자료가 많이 몰려있다는 의미인데, 각각의 첨도가 매우 높은 값으로 나타나는 것으로 보았을 때 대다수의 자료가 중심에 몰려있다는 것을 알 수 있습니다."
   ]
  },
  {
   "cell_type": "markdown",
   "id": "fea8b1ac",
   "metadata": {},
   "source": [
    "### 1-4. 다변량 데이터 탐색"
   ]
  },
  {
   "cell_type": "markdown",
   "id": "18baaa19",
   "metadata": {},
   "source": [
    "**상관관계**"
   ]
  },
  {
   "cell_type": "code",
   "execution_count": 18,
   "id": "ce06abfe",
   "metadata": {
    "scrolled": true
   },
   "outputs": [
    {
     "data": {
      "text/html": [
       "<div>\n",
       "<style scoped>\n",
       "    .dataframe tbody tr th:only-of-type {\n",
       "        vertical-align: middle;\n",
       "    }\n",
       "\n",
       "    .dataframe tbody tr th {\n",
       "        vertical-align: top;\n",
       "    }\n",
       "\n",
       "    .dataframe thead th {\n",
       "        text-align: right;\n",
       "    }\n",
       "</style>\n",
       "<table border=\"1\" class=\"dataframe\">\n",
       "  <thead>\n",
       "    <tr style=\"text-align: right;\">\n",
       "      <th></th>\n",
       "      <th>view_count</th>\n",
       "      <th>likes</th>\n",
       "      <th>dislikes</th>\n",
       "      <th>comment_count</th>\n",
       "    </tr>\n",
       "  </thead>\n",
       "  <tbody>\n",
       "    <tr>\n",
       "      <th>view_count</th>\n",
       "      <td>1.000000</td>\n",
       "      <td>0.880606</td>\n",
       "      <td>0.620982</td>\n",
       "      <td>0.789714</td>\n",
       "    </tr>\n",
       "    <tr>\n",
       "      <th>likes</th>\n",
       "      <td>0.880606</td>\n",
       "      <td>1.000000</td>\n",
       "      <td>0.624133</td>\n",
       "      <td>0.820256</td>\n",
       "    </tr>\n",
       "    <tr>\n",
       "      <th>dislikes</th>\n",
       "      <td>0.620982</td>\n",
       "      <td>0.624133</td>\n",
       "      <td>1.000000</td>\n",
       "      <td>0.628419</td>\n",
       "    </tr>\n",
       "    <tr>\n",
       "      <th>comment_count</th>\n",
       "      <td>0.789714</td>\n",
       "      <td>0.820256</td>\n",
       "      <td>0.628419</td>\n",
       "      <td>1.000000</td>\n",
       "    </tr>\n",
       "  </tbody>\n",
       "</table>\n",
       "</div>"
      ],
      "text/plain": [
       "               view_count     likes  dislikes  comment_count\n",
       "view_count       1.000000  0.880606  0.620982       0.789714\n",
       "likes            0.880606  1.000000  0.624133       0.820256\n",
       "dislikes         0.620982  0.624133  1.000000       0.628419\n",
       "comment_count    0.789714  0.820256  0.628419       1.000000"
      ]
     },
     "execution_count": 18,
     "metadata": {},
     "output_type": "execute_result"
    }
   ],
   "source": [
    "raw_data[numerical_data].corr()"
   ]
  },
  {
   "cell_type": "markdown",
   "id": "dae773e9",
   "metadata": {},
   "source": [
    "**히트맵**"
   ]
  },
  {
   "cell_type": "code",
   "execution_count": 19,
   "id": "4f7ce009",
   "metadata": {},
   "outputs": [],
   "source": [
    "corr = raw_data[numerical_data].corr()"
   ]
  },
  {
   "cell_type": "code",
   "execution_count": 20,
   "id": "80fda5b5",
   "metadata": {
    "scrolled": true
   },
   "outputs": [
    {
     "data": {
      "image/png": "[encoded data removed]",
      "text/plain": [
       "<Figure size 432x288 with 2 Axes>"
      ]
     },
     "metadata": {
      "needs_background": "light"
     },
     "output_type": "display_data"
    }
   ],
   "source": [
    "sns.heatmap(corr, cmap='Blues', annot=True);"
   ]
  },
  {
   "cell_type": "markdown",
   "id": "e7742c7e",
   "metadata": {},
   "source": [
    "**데이터 분포**"
   ]
  },
  {
   "cell_type": "code",
   "execution_count": 21,
   "id": "d14d2d22",
   "metadata": {},
   "outputs": [
    {
     "data": {
      "image/png": "[encoded data removed]",
      "text/plain": [
       "<Figure size 1440x2160 with 4 Axes>"
      ]
     },
     "metadata": {
      "needs_background": "light"
     },
     "output_type": "display_data"
    }
   ],
   "source": [
    "plt.figure(figsize=(20, 30))\n",
    "\n",
    "for i in range(1, len(raw_data.describe().columns)):\n",
    "    plt.subplot(5, 4, i)\n",
    "    title = str(raw_data.describe().columns[i]) + ' <-> view count'\n",
    "    plt.title(title)\n",
    "    plt.xlabel(raw_data.describe().columns[i])\n",
    "    plt.ylabel('view_count')\n",
    "    plt.grid()\n",
    "    plt.scatter(raw_data[raw_data.describe().columns[i]], raw_data['view_count'])  "
   ]
  },
  {
   "cell_type": "markdown",
   "id": "ad26f258",
   "metadata": {},
   "source": [
    "**데이터 계층 구조 파악 - 덴드로그램**"
   ]
  },
  {
   "cell_type": "code",
   "execution_count": 45,
   "id": "9ec3f852",
   "metadata": {},
   "outputs": [
    {
     "name": "stdout",
     "output_type": "stream",
     "text": [
      "               view_count  likes  dislikes  comment_count\n",
      "view_count            1.0    NaN       NaN            NaN\n",
      "likes                 NaN    1.0       NaN            NaN\n",
      "dislikes              NaN    NaN       1.0            NaN\n",
      "comment_count         NaN    NaN       NaN            1.0\n"
     ]
    },
    {
     "data": {
      "image/png": "[encoded data removed]",
      "text/plain": [
       "<Figure size 1080x360 with 2 Axes>"
      ]
     },
     "metadata": {
      "needs_background": "light"
     },
     "output_type": "display_data"
    }
   ],
   "source": [
    "X_input = raw_data[numerical_data]\n",
    "cor_table = X_input.corr()\n",
    "\n",
    "print(cor_table[cor_table > 0.9])\n",
    "\n",
    "fig, (ax1, ax2) = plt.subplots(1, 2, figsize=(15, 5))\n",
    "ax1.set_title('Hierarchical Dendrogram')\n",
    "corr = spearmanr(X_input).correlation\n",
    "pd.DataFrame(corr)\n",
    "corr_linkage = hierarchy.ward(corr)\n",
    "dendro = hierarchy.dendrogram(corr_linkage, labels=numerical_data, ax=ax1)\n",
    "\n",
    "dendro_idx = np.arange(0, len(dendro['ivl']))\n",
    "\n",
    "ax2.imshow(corr[dendro['leaves'], :][:, dendro['leaves']])\n",
    "ax2.set_title('Feature Correlation')\n",
    "ax2.set_xticks(dendro_idx)\n",
    "ax2.set_yticks(dendro_idx)\n",
    "ax2.set_xticklabels(dendro['ivl'])\n",
    "ax2.set_yticklabels(dendro['ivl'])\n",
    "\n",
    "fig.tight_layout()"
   ]
  },
  {
   "cell_type": "markdown",
   "id": "7a50d8fc",
   "metadata": {},
   "source": [
    "---"
   ]
  }
 ],
 "metadata": {
  "kernelspec": {
   "display_name": "Python 3 (ipykernel)",
   "language": "python",
   "name": "python3"
  },
  "language_info": {
   "codemirror_mode": {
    "name": "ipython",
    "version": 3
   },
   "file_extension": ".py",
   "mimetype": "text/x-python",
   "name": "python",
   "nbconvert_exporter": "python",
   "pygments_lexer": "ipython3",
   "version": "3.9.7"
  }
 },
 "nbformat": 4,
 "nbformat_minor": 5
}
