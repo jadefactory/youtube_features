{
 "cells": [
  {
   "cell_type": "markdown",
   "id": "c41ed3ad",
   "metadata": {},
   "source": [
    "데이터 출처: https://www.kaggle.com/datasets/rsrishav/youtube-trending-video-dataset"
   ]
  },
  {
   "cell_type": "markdown",
   "id": "98412fff",
   "metadata": {},
   "source": [
    "## 1. 데이터 살펴보기"
   ]
  },
  {
   "cell_type": "code",
   "execution_count": 1,
   "id": "ac096c2b",
   "metadata": {},
   "outputs": [],
   "source": [
    "import pandas as pd\n",
    "import matplotlib.pyplot as plt\n",
    "\n",
    "from sklearn.model_selection import train_test_split\n",
    "from sklearn.metrics import r2_score\n",
    "from sklearn.ensemble import RandomForestRegressor"
   ]
  },
  {
   "cell_type": "markdown",
   "id": "aed193e1",
   "metadata": {},
   "source": [
    "### 1-1. 데이터 확인"
   ]
  },
  {
   "cell_type": "code",
   "execution_count": 2,
   "id": "42458baf",
   "metadata": {},
   "outputs": [],
   "source": [
    "raw_data = pd.read_csv('./data/KR_youtube_trending_data_220722.csv')"
   ]
  },
  {
   "cell_type": "code",
   "execution_count": 3,
   "id": "c791397f",
   "metadata": {},
   "outputs": [
    {
     "data": {
      "text/plain": [
       "(139754, 16)"
      ]
     },
     "execution_count": 3,
     "metadata": {},
     "output_type": "execute_result"
    }
   ],
   "source": [
    "raw_data.shape"
   ]
  },
  {
   "cell_type": "code",
   "execution_count": 4,
   "id": "1da1a21d",
   "metadata": {},
   "outputs": [
    {
     "data": {
      "text/html": [
       "<div>\n",
       "<style scoped>\n",
       "    .dataframe tbody tr th:only-of-type {\n",
       "        vertical-align: middle;\n",
       "    }\n",
       "\n",
       "    .dataframe tbody tr th {\n",
       "        vertical-align: top;\n",
       "    }\n",
       "\n",
       "    .dataframe thead th {\n",
       "        text-align: right;\n",
       "    }\n",
       "</style>\n",
       "<table border=\"1\" class=\"dataframe\">\n",
       "  <thead>\n",
       "    <tr style=\"text-align: right;\">\n",
       "      <th></th>\n",
       "      <th>video_id</th>\n",
       "      <th>title</th>\n",
       "      <th>publishedAt</th>\n",
       "      <th>channelId</th>\n",
       "      <th>channelTitle</th>\n",
       "      <th>categoryId</th>\n",
       "      <th>trending_date</th>\n",
       "      <th>tags</th>\n",
       "      <th>view_count</th>\n",
       "      <th>likes</th>\n",
       "      <th>dislikes</th>\n",
       "      <th>comment_count</th>\n",
       "      <th>thumbnail_link</th>\n",
       "      <th>comments_disabled</th>\n",
       "      <th>ratings_disabled</th>\n",
       "      <th>description</th>\n",
       "    </tr>\n",
       "  </thead>\n",
       "  <tbody>\n",
       "    <tr>\n",
       "      <th>0</th>\n",
       "      <td>uq5LClQN3cE</td>\n",
       "      <td>안녕하세요 보겸입니다</td>\n",
       "      <td>2020-08-09T09:32:48Z</td>\n",
       "      <td>UCu9BCtGIEr73LXZsKmoujKw</td>\n",
       "      <td>보겸 BK</td>\n",
       "      <td>24</td>\n",
       "      <td>2020-08-12T00:00:00Z</td>\n",
       "      <td>보겸|bokyem</td>\n",
       "      <td>5947503</td>\n",
       "      <td>53326</td>\n",
       "      <td>105756</td>\n",
       "      <td>139946</td>\n",
       "      <td>https://i.ytimg.com/vi/uq5LClQN3cE/default.jpg</td>\n",
       "      <td>False</td>\n",
       "      <td>False</td>\n",
       "      <td>NaN</td>\n",
       "    </tr>\n",
       "    <tr>\n",
       "      <th>1</th>\n",
       "      <td>I-ZbZCHsHD0</td>\n",
       "      <td>부락토스의 계획 [총몇명 프리퀄]</td>\n",
       "      <td>2020-08-12T09:00:08Z</td>\n",
       "      <td>UCRuSxVu4iqTK5kCh90ntAgA</td>\n",
       "      <td>총몇명</td>\n",
       "      <td>1</td>\n",
       "      <td>2020-08-12T00:00:00Z</td>\n",
       "      <td>총몇명|재밌는 만화|부락토스|루시퍼|총몇명 프리퀄|총몇명 스토리</td>\n",
       "      <td>963384</td>\n",
       "      <td>28244</td>\n",
       "      <td>494</td>\n",
       "      <td>3339</td>\n",
       "      <td>https://i.ytimg.com/vi/I-ZbZCHsHD0/default.jpg</td>\n",
       "      <td>False</td>\n",
       "      <td>False</td>\n",
       "      <td>오늘도 정말 감사드립니다!!총몇명 스튜디오 - 총몇명, 십제곱, 5G민, MOVE혁...</td>\n",
       "    </tr>\n",
       "    <tr>\n",
       "      <th>2</th>\n",
       "      <td>9d7jNUjBoss</td>\n",
       "      <td>평생 반성하면서 살겠습니다.</td>\n",
       "      <td>2020-08-10T09:54:13Z</td>\n",
       "      <td>UCMVC92EOs9yDJG5JS-CMesQ</td>\n",
       "      <td>양팡 YangPang</td>\n",
       "      <td>22</td>\n",
       "      <td>2020-08-12T00:00:00Z</td>\n",
       "      <td>양팡|양팡유튜브|팡튜브|가족시트콤|양팡가족|양팡가족시트콤|양팡언니|현실남매|현실자매...</td>\n",
       "      <td>2950885</td>\n",
       "      <td>17974</td>\n",
       "      <td>68898</td>\n",
       "      <td>50688</td>\n",
       "      <td>https://i.ytimg.com/vi/9d7jNUjBoss/default.jpg</td>\n",
       "      <td>False</td>\n",
       "      <td>False</td>\n",
       "      <td>NaN</td>\n",
       "    </tr>\n",
       "    <tr>\n",
       "      <th>3</th>\n",
       "      <td>3pI_L3-sMVg</td>\n",
       "      <td>안녕하세요 꽈뚜룹입니다.</td>\n",
       "      <td>2020-08-11T15:00:58Z</td>\n",
       "      <td>UCkQCwnkQfgSuPTTnw_Y7v7w</td>\n",
       "      <td>꽈뚜룹 Quaddurup</td>\n",
       "      <td>24</td>\n",
       "      <td>2020-08-12T00:00:00Z</td>\n",
       "      <td>꽈뚜룹|한국여행기|quaddurup|뚜룹이|korea|southkorea|vlog|...</td>\n",
       "      <td>1743374</td>\n",
       "      <td>36893</td>\n",
       "      <td>1798</td>\n",
       "      <td>8751</td>\n",
       "      <td>https://i.ytimg.com/vi/3pI_L3-sMVg/default.jpg</td>\n",
       "      <td>False</td>\n",
       "      <td>False</td>\n",
       "      <td>앞으로 좀 더 깔끔한 영상제작 약속 드리겠습니다.늘 감사드립니다</td>\n",
       "    </tr>\n",
       "    <tr>\n",
       "      <th>4</th>\n",
       "      <td>zrsBjYukE8s</td>\n",
       "      <td>박진영 (J.Y. Park) When We Disco (Duet with 선미) M/V</td>\n",
       "      <td>2020-08-11T09:00:13Z</td>\n",
       "      <td>UCaO6TYtlC8U5ttz62hTrZgg</td>\n",
       "      <td>JYP Entertainment</td>\n",
       "      <td>10</td>\n",
       "      <td>2020-08-12T00:00:00Z</td>\n",
       "      <td>JYP Entertainment|JYP|J.Y.Park|JYPark|박진영|선미|S...</td>\n",
       "      <td>3433885</td>\n",
       "      <td>353337</td>\n",
       "      <td>9763</td>\n",
       "      <td>23405</td>\n",
       "      <td>https://i.ytimg.com/vi/zrsBjYukE8s/default.jpg</td>\n",
       "      <td>False</td>\n",
       "      <td>False</td>\n",
       "      <td>MelOn http://kko.to/TWyXd7zYjSpotify https://s...</td>\n",
       "    </tr>\n",
       "  </tbody>\n",
       "</table>\n",
       "</div>"
      ],
      "text/plain": [
       "      video_id                                             title  \\\n",
       "0  uq5LClQN3cE                                       안녕하세요 보겸입니다   \n",
       "1  I-ZbZCHsHD0                                부락토스의 계획 [총몇명 프리퀄]   \n",
       "2  9d7jNUjBoss                                   평생 반성하면서 살겠습니다.   \n",
       "3  3pI_L3-sMVg                              안녕하세요 꽈뚜룹입니다.   \n",
       "4  zrsBjYukE8s  박진영 (J.Y. Park) When We Disco (Duet with 선미) M/V   \n",
       "\n",
       "            publishedAt                 channelId       channelTitle  \\\n",
       "0  2020-08-09T09:32:48Z  UCu9BCtGIEr73LXZsKmoujKw              보겸 BK   \n",
       "1  2020-08-12T09:00:08Z  UCRuSxVu4iqTK5kCh90ntAgA                총몇명   \n",
       "2  2020-08-10T09:54:13Z  UCMVC92EOs9yDJG5JS-CMesQ        양팡 YangPang   \n",
       "3  2020-08-11T15:00:58Z  UCkQCwnkQfgSuPTTnw_Y7v7w      꽈뚜룹 Quaddurup   \n",
       "4  2020-08-11T09:00:13Z  UCaO6TYtlC8U5ttz62hTrZgg  JYP Entertainment   \n",
       "\n",
       "   categoryId         trending_date  \\\n",
       "0          24  2020-08-12T00:00:00Z   \n",
       "1           1  2020-08-12T00:00:00Z   \n",
       "2          22  2020-08-12T00:00:00Z   \n",
       "3          24  2020-08-12T00:00:00Z   \n",
       "4          10  2020-08-12T00:00:00Z   \n",
       "\n",
       "                                                tags  view_count   likes  \\\n",
       "0                                          보겸|bokyem     5947503   53326   \n",
       "1                총몇명|재밌는 만화|부락토스|루시퍼|총몇명 프리퀄|총몇명 스토리      963384   28244   \n",
       "2  양팡|양팡유튜브|팡튜브|가족시트콤|양팡가족|양팡가족시트콤|양팡언니|현실남매|현실자매...     2950885   17974   \n",
       "3  꽈뚜룹|한국여행기|quaddurup|뚜룹이|korea|southkorea|vlog|...     1743374   36893   \n",
       "4  JYP Entertainment|JYP|J.Y.Park|JYPark|박진영|선미|S...     3433885  353337   \n",
       "\n",
       "   dislikes  comment_count                                  thumbnail_link  \\\n",
       "0    105756         139946  https://i.ytimg.com/vi/uq5LClQN3cE/default.jpg   \n",
       "1       494           3339  https://i.ytimg.com/vi/I-ZbZCHsHD0/default.jpg   \n",
       "2     68898          50688  https://i.ytimg.com/vi/9d7jNUjBoss/default.jpg   \n",
       "3      1798           8751  https://i.ytimg.com/vi/3pI_L3-sMVg/default.jpg   \n",
       "4      9763          23405  https://i.ytimg.com/vi/zrsBjYukE8s/default.jpg   \n",
       "\n",
       "   comments_disabled  ratings_disabled  \\\n",
       "0              False             False   \n",
       "1              False             False   \n",
       "2              False             False   \n",
       "3              False             False   \n",
       "4              False             False   \n",
       "\n",
       "                                         description  \n",
       "0                                                NaN  \n",
       "1  오늘도 정말 감사드립니다!!총몇명 스튜디오 - 총몇명, 십제곱, 5G민, MOVE혁...  \n",
       "2                                                NaN  \n",
       "3                앞으로 좀 더 깔끔한 영상제작 약속 드리겠습니다.늘 감사드립니다  \n",
       "4  MelOn http://kko.to/TWyXd7zYjSpotify https://s...  "
      ]
     },
     "execution_count": 4,
     "metadata": {},
     "output_type": "execute_result"
    }
   ],
   "source": [
    "raw_data.head()"
   ]
  },
  {
   "cell_type": "code",
   "execution_count": 5,
   "id": "06693811",
   "metadata": {
    "scrolled": true
   },
   "outputs": [
    {
     "name": "stdout",
     "output_type": "stream",
     "text": [
      "<class 'pandas.core.frame.DataFrame'>\n",
      "RangeIndex: 139754 entries, 0 to 139753\n",
      "Data columns (total 16 columns):\n",
      " #   Column             Non-Null Count   Dtype \n",
      "---  ------             --------------   ----- \n",
      " 0   video_id           139754 non-null  object\n",
      " 1   title              139754 non-null  object\n",
      " 2   publishedAt        139754 non-null  object\n",
      " 3   channelId          139754 non-null  object\n",
      " 4   channelTitle       139754 non-null  object\n",
      " 5   categoryId         139754 non-null  int64 \n",
      " 6   trending_date      139754 non-null  object\n",
      " 7   tags               139754 non-null  object\n",
      " 8   view_count         139754 non-null  int64 \n",
      " 9   likes              139754 non-null  int64 \n",
      " 10  dislikes           139754 non-null  int64 \n",
      " 11  comment_count      139754 non-null  int64 \n",
      " 12  thumbnail_link     139754 non-null  object\n",
      " 13  comments_disabled  139754 non-null  bool  \n",
      " 14  ratings_disabled   139754 non-null  bool  \n",
      " 15  description        136183 non-null  object\n",
      "dtypes: bool(2), int64(5), object(9)\n",
      "memory usage: 15.2+ MB\n"
     ]
    }
   ],
   "source": [
    "raw_data.info()"
   ]
  },
  {
   "cell_type": "markdown",
   "id": "9f69e20c",
   "metadata": {},
   "source": [
    "### 1-2. 데이터 시각화"
   ]
  },
  {
   "cell_type": "code",
   "execution_count": 6,
   "id": "db0ef55e",
   "metadata": {},
   "outputs": [],
   "source": [
    "df = raw_data[(raw_data['comments_disabled'] == 0) & (raw_data['ratings_disabled'] == 0) & (raw_data['categoryId'] == 23)].copy()"
   ]
  },
  {
   "cell_type": "code",
   "execution_count": 7,
   "id": "ea261294",
   "metadata": {},
   "outputs": [
    {
     "data": {
      "image/png": "[encoded data removed]",
      "text/plain": [
       "<Figure size 1440x2160 with 4 Axes>"
      ]
     },
     "metadata": {
      "needs_background": "light"
     },
     "output_type": "display_data"
    }
   ],
   "source": [
    "plt.figure(figsize=(20, 30))\n",
    "\n",
    "for i in range(1, len(df.describe().columns)):\n",
    "    plt.subplot(6, 4, i)\n",
    "    title = str(df.describe().columns[i]) + ' vs. view_count'\n",
    "    plt.title(title)\n",
    "    plt.xlabel(df.describe().columns[i])\n",
    "    plt.ylabel('view_count')\n",
    "    plt.grid()\n",
    "    plt.scatter(df[df.describe().columns[i]], df['view_count']) "
   ]
  },
  {
   "cell_type": "markdown",
   "id": "7a50d8fc",
   "metadata": {},
   "source": [
    "---"
   ]
  },
  {
   "cell_type": "markdown",
   "id": "d198f71a",
   "metadata": {},
   "source": [
    "## 2. 데이터 전처리"
   ]
  },
  {
   "cell_type": "markdown",
   "id": "0621ee0e",
   "metadata": {},
   "source": [
    "### 2-1. 결측치 처리"
   ]
  },
  {
   "cell_type": "code",
   "execution_count": 8,
   "id": "87bdfec4",
   "metadata": {},
   "outputs": [
    {
     "data": {
      "text/plain": [
       "(8755, 16)"
      ]
     },
     "execution_count": 8,
     "metadata": {},
     "output_type": "execute_result"
    }
   ],
   "source": [
    "df.shape"
   ]
  },
  {
   "cell_type": "code",
   "execution_count": 9,
   "id": "86d5e783",
   "metadata": {},
   "outputs": [
    {
     "data": {
      "text/plain": [
       "video_id               0\n",
       "title                  0\n",
       "publishedAt            0\n",
       "channelId              0\n",
       "channelTitle           0\n",
       "categoryId             0\n",
       "trending_date          0\n",
       "tags                   0\n",
       "view_count             0\n",
       "likes                  0\n",
       "dislikes               0\n",
       "comment_count          0\n",
       "thumbnail_link         0\n",
       "comments_disabled      0\n",
       "ratings_disabled       0\n",
       "description          823\n",
       "dtype: int64"
      ]
     },
     "execution_count": 9,
     "metadata": {},
     "output_type": "execute_result"
    }
   ],
   "source": [
    "df.isnull().sum()"
   ]
  },
  {
   "cell_type": "code",
   "execution_count": 10,
   "id": "e045eca9",
   "metadata": {},
   "outputs": [],
   "source": [
    "df['description_length'] = df['description'].apply(lambda x: len(str(x)) if pd.isnull(x) is False else 0)"
   ]
  },
  {
   "cell_type": "code",
   "execution_count": 11,
   "id": "d64891ab",
   "metadata": {},
   "outputs": [
    {
     "data": {
      "text/html": [
       "<div>\n",
       "<style scoped>\n",
       "    .dataframe tbody tr th:only-of-type {\n",
       "        vertical-align: middle;\n",
       "    }\n",
       "\n",
       "    .dataframe tbody tr th {\n",
       "        vertical-align: top;\n",
       "    }\n",
       "\n",
       "    .dataframe thead th {\n",
       "        text-align: right;\n",
       "    }\n",
       "</style>\n",
       "<table border=\"1\" class=\"dataframe\">\n",
       "  <thead>\n",
       "    <tr style=\"text-align: right;\">\n",
       "      <th></th>\n",
       "      <th>video_id</th>\n",
       "      <th>title</th>\n",
       "      <th>publishedAt</th>\n",
       "      <th>channelId</th>\n",
       "      <th>channelTitle</th>\n",
       "      <th>categoryId</th>\n",
       "      <th>trending_date</th>\n",
       "      <th>tags</th>\n",
       "      <th>view_count</th>\n",
       "      <th>likes</th>\n",
       "      <th>dislikes</th>\n",
       "      <th>comment_count</th>\n",
       "      <th>thumbnail_link</th>\n",
       "      <th>comments_disabled</th>\n",
       "      <th>ratings_disabled</th>\n",
       "      <th>description</th>\n",
       "      <th>description_length</th>\n",
       "    </tr>\n",
       "  </thead>\n",
       "  <tbody>\n",
       "    <tr>\n",
       "      <th>8</th>\n",
       "      <td>7FOi40uehC4</td>\n",
       "      <td>집에 혼자 있을 때 하는 짓ㅋㅋㅋㅋㅋㅋㅋ [밍꼬발랄]</td>\n",
       "      <td>2020-08-12T09:00:02Z</td>\n",
       "      <td>UCCJkwrmhIqWkSFV-sQol4Qw</td>\n",
       "      <td>밍꼬발랄Mingggo</td>\n",
       "      <td>23</td>\n",
       "      <td>2020-08-12T00:00:00Z</td>\n",
       "      <td>밍꼬발랄|밍꼬|꼬밍|발랄|모아보기|이어보기|정주행|꿀잼|꿀팁|유형|유형별|꼭있는유형...</td>\n",
       "      <td>340149</td>\n",
       "      <td>13166</td>\n",
       "      <td>338</td>\n",
       "      <td>5697</td>\n",
       "      <td>https://i.ytimg.com/vi/7FOi40uehC4/default.jpg</td>\n",
       "      <td>False</td>\n",
       "      <td>False</td>\n",
       "      <td>다~해 본 사람 손!![밍꼬 배경화면]_https://grafolio.naver.c...</td>\n",
       "      <td>810</td>\n",
       "    </tr>\n",
       "    <tr>\n",
       "      <th>9</th>\n",
       "      <td>0dsnm3n6ZdM</td>\n",
       "      <td>정윤호가 무려 6시간 공들여 만든 세기의 발명품 [발명왕] Ep.1</td>\n",
       "      <td>2020-08-11T09:30:00Z</td>\n",
       "      <td>UC0SoPwEH3idvemSDvKaYgGA</td>\n",
       "      <td>달라스튜디오</td>\n",
       "      <td>23</td>\n",
       "      <td>2020-08-12T00:00:00Z</td>\n",
       "      <td>예능|달라스튜디오|DALLA|정윤호|발명왕|유노윤호|동방신기|TVXQ|신발|아이디어</td>\n",
       "      <td>351264</td>\n",
       "      <td>11125</td>\n",
       "      <td>103</td>\n",
       "      <td>2324</td>\n",
       "      <td>https://i.ytimg.com/vi/0dsnm3n6ZdM/default.jpg</td>\n",
       "      <td>False</td>\n",
       "      <td>False</td>\n",
       "      <td>되게 쓸모 없을 거 같은데 되게 쓸모 있을 거 같은 이 발명품은 뭐지?3:26 ㅅ....</td>\n",
       "      <td>173</td>\n",
       "    </tr>\n",
       "    <tr>\n",
       "      <th>11</th>\n",
       "      <td>7Y8Vv_KHp7I</td>\n",
       "      <td>🇺🇲🇪🇸SUB] [몰카] 누가봐도 강도인데 전혀 의심을 안하는 직원을 본다면?!!!...</td>\n",
       "      <td>2020-08-09T11:30:01Z</td>\n",
       "      <td>UCIuFnJrRwHEUcIVtozJnUGA</td>\n",
       "      <td>동네놈들</td>\n",
       "      <td>23</td>\n",
       "      <td>2020-08-12T00:00:00Z</td>\n",
       "      <td>관찰|관찰카메라|실험|실험카메라|prank|prankcam|prankcamera|p...</td>\n",
       "      <td>1354418</td>\n",
       "      <td>21632</td>\n",
       "      <td>1309</td>\n",
       "      <td>1166</td>\n",
       "      <td>https://i.ytimg.com/vi/7Y8Vv_KHp7I/default.jpg</td>\n",
       "      <td>False</td>\n",
       "      <td>False</td>\n",
       "      <td>장소 협찬을 해주신 청담 레스티아(LESTIA) 감사드립니다 :-)청담 레스티아(L...</td>\n",
       "      <td>761</td>\n",
       "    </tr>\n",
       "    <tr>\n",
       "      <th>25</th>\n",
       "      <td>2ErtcO2XuYs</td>\n",
       "      <td>자수 하겠습니다 죄송합니다</td>\n",
       "      <td>2020-08-10T12:50:44Z</td>\n",
       "      <td>UCg_lS-XS9Fh9I6Rl56Z8fpg</td>\n",
       "      <td>최고다윽박EUGBAK</td>\n",
       "      <td>23</td>\n",
       "      <td>2020-08-12T00:00:00Z</td>\n",
       "      <td>최고다윽박|자연인|바다|낚시|요리먹방|시골|아프리카TV|국민바보|eugbak|muk...</td>\n",
       "      <td>1118238</td>\n",
       "      <td>32497</td>\n",
       "      <td>2696</td>\n",
       "      <td>11910</td>\n",
       "      <td>https://i.ytimg.com/vi/2ErtcO2XuYs/default.jpg</td>\n",
       "      <td>False</td>\n",
       "      <td>False</td>\n",
       "      <td>죄송합니다</td>\n",
       "      <td>5</td>\n",
       "    </tr>\n",
       "    <tr>\n",
       "      <th>27</th>\n",
       "      <td>5UahGcQ5u9k</td>\n",
       "      <td>치킨 본사 쳐들어가서 네고해왔습니다 [네고왕] Ep.1</td>\n",
       "      <td>2020-08-07T09:30:00Z</td>\n",
       "      <td>UC0SoPwEH3idvemSDvKaYgGA</td>\n",
       "      <td>달라스튜디오</td>\n",
       "      <td>23</td>\n",
       "      <td>2020-08-12T00:00:00Z</td>\n",
       "      <td>예능|달라스튜디오|DALLA|치킨|비비큐|BBQ</td>\n",
       "      <td>2963213</td>\n",
       "      <td>166050</td>\n",
       "      <td>1342</td>\n",
       "      <td>18128</td>\n",
       "      <td>https://i.ytimg.com/vi/5UahGcQ5u9k/default.jpg</td>\n",
       "      <td>False</td>\n",
       "      <td>False</td>\n",
       "      <td>9:16 치킨왕 앞에서 쫄리는 법이 없는 천직 네고왕ㅋㅋㅋㅋㅋㅋㅋBBQ 통장에서 5...</td>\n",
       "      <td>386</td>\n",
       "    </tr>\n",
       "  </tbody>\n",
       "</table>\n",
       "</div>"
      ],
      "text/plain": [
       "       video_id                                              title  \\\n",
       "8   7FOi40uehC4                      집에 혼자 있을 때 하는 짓ㅋㅋㅋㅋㅋㅋㅋ [밍꼬발랄]   \n",
       "9   0dsnm3n6ZdM              정윤호가 무려 6시간 공들여 만든 세기의 발명품 [발명왕] Ep.1   \n",
       "11  7Y8Vv_KHp7I  🇺🇲🇪🇸SUB] [몰카] 누가봐도 강도인데 전혀 의심을 안하는 직원을 본다면?!!!...   \n",
       "25  2ErtcO2XuYs                                     자수 하겠습니다 죄송합니다   \n",
       "27  5UahGcQ5u9k                     치킨 본사 쳐들어가서 네고해왔습니다 [네고왕] Ep.1   \n",
       "\n",
       "             publishedAt                 channelId channelTitle  categoryId  \\\n",
       "8   2020-08-12T09:00:02Z  UCCJkwrmhIqWkSFV-sQol4Qw  밍꼬발랄Mingggo          23   \n",
       "9   2020-08-11T09:30:00Z  UC0SoPwEH3idvemSDvKaYgGA       달라스튜디오          23   \n",
       "11  2020-08-09T11:30:01Z  UCIuFnJrRwHEUcIVtozJnUGA         동네놈들          23   \n",
       "25  2020-08-10T12:50:44Z  UCg_lS-XS9Fh9I6Rl56Z8fpg  최고다윽박EUGBAK          23   \n",
       "27  2020-08-07T09:30:00Z  UC0SoPwEH3idvemSDvKaYgGA       달라스튜디오          23   \n",
       "\n",
       "           trending_date                                               tags  \\\n",
       "8   2020-08-12T00:00:00Z  밍꼬발랄|밍꼬|꼬밍|발랄|모아보기|이어보기|정주행|꿀잼|꿀팁|유형|유형별|꼭있는유형...   \n",
       "9   2020-08-12T00:00:00Z     예능|달라스튜디오|DALLA|정윤호|발명왕|유노윤호|동방신기|TVXQ|신발|아이디어   \n",
       "11  2020-08-12T00:00:00Z  관찰|관찰카메라|실험|실험카메라|prank|prankcam|prankcamera|p...   \n",
       "25  2020-08-12T00:00:00Z  최고다윽박|자연인|바다|낚시|요리먹방|시골|아프리카TV|국민바보|eugbak|muk...   \n",
       "27  2020-08-12T00:00:00Z                         예능|달라스튜디오|DALLA|치킨|비비큐|BBQ   \n",
       "\n",
       "    view_count   likes  dislikes  comment_count  \\\n",
       "8       340149   13166       338           5697   \n",
       "9       351264   11125       103           2324   \n",
       "11     1354418   21632      1309           1166   \n",
       "25     1118238   32497      2696          11910   \n",
       "27     2963213  166050      1342          18128   \n",
       "\n",
       "                                    thumbnail_link  comments_disabled  \\\n",
       "8   https://i.ytimg.com/vi/7FOi40uehC4/default.jpg              False   \n",
       "9   https://i.ytimg.com/vi/0dsnm3n6ZdM/default.jpg              False   \n",
       "11  https://i.ytimg.com/vi/7Y8Vv_KHp7I/default.jpg              False   \n",
       "25  https://i.ytimg.com/vi/2ErtcO2XuYs/default.jpg              False   \n",
       "27  https://i.ytimg.com/vi/5UahGcQ5u9k/default.jpg              False   \n",
       "\n",
       "    ratings_disabled                                        description  \\\n",
       "8              False  다~해 본 사람 손!![밍꼬 배경화면]_https://grafolio.naver.c...   \n",
       "9              False  되게 쓸모 없을 거 같은데 되게 쓸모 있을 거 같은 이 발명품은 뭐지?3:26 ㅅ....   \n",
       "11             False  장소 협찬을 해주신 청담 레스티아(LESTIA) 감사드립니다 :-)청담 레스티아(L...   \n",
       "25             False                                              죄송합니다   \n",
       "27             False  9:16 치킨왕 앞에서 쫄리는 법이 없는 천직 네고왕ㅋㅋㅋㅋㅋㅋㅋBBQ 통장에서 5...   \n",
       "\n",
       "    description_length  \n",
       "8                  810  \n",
       "9                  173  \n",
       "11                 761  \n",
       "25                   5  \n",
       "27                 386  "
      ]
     },
     "execution_count": 11,
     "metadata": {},
     "output_type": "execute_result"
    }
   ],
   "source": [
    "df.head()"
   ]
  },
  {
   "cell_type": "code",
   "execution_count": 12,
   "id": "d0e70f6a",
   "metadata": {},
   "outputs": [],
   "source": [
    "df = df.fillna('')"
   ]
  },
  {
   "cell_type": "code",
   "execution_count": 13,
   "id": "dcb8e196",
   "metadata": {
    "scrolled": true
   },
   "outputs": [
    {
     "data": {
      "text/plain": [
       "video_id              0\n",
       "title                 0\n",
       "publishedAt           0\n",
       "channelId             0\n",
       "channelTitle          0\n",
       "categoryId            0\n",
       "trending_date         0\n",
       "tags                  0\n",
       "view_count            0\n",
       "likes                 0\n",
       "dislikes              0\n",
       "comment_count         0\n",
       "thumbnail_link        0\n",
       "comments_disabled     0\n",
       "ratings_disabled      0\n",
       "description           0\n",
       "description_length    0\n",
       "dtype: int64"
      ]
     },
     "execution_count": 13,
     "metadata": {},
     "output_type": "execute_result"
    }
   ],
   "source": [
    "df.isnull().sum()"
   ]
  },
  {
   "cell_type": "markdown",
   "id": "7273d5e4",
   "metadata": {},
   "source": [
    "### 2-2. 데이터 형식 정제"
   ]
  },
  {
   "cell_type": "code",
   "execution_count": 14,
   "id": "989a6a5a",
   "metadata": {},
   "outputs": [],
   "source": [
    "df['publish_date'] = df['publishedAt'].apply(lambda x: x.split('T')[0])\n",
    "df['publish_date'] = df['publish_date'].astype('datetime64[ns]')\n",
    "\n",
    "df['trend_date'] = df['trending_date'].apply(lambda x: x.split('T')[0])\n",
    "df['trend_date'] = df['trend_date'].astype('datetime64[ns]')"
   ]
  },
  {
   "cell_type": "code",
   "execution_count": 15,
   "id": "595f61a2",
   "metadata": {},
   "outputs": [
    {
     "name": "stdout",
     "output_type": "stream",
     "text": [
      "<class 'pandas.core.frame.DataFrame'>\n",
      "Int64Index: 8755 entries, 8 to 139732\n",
      "Data columns (total 19 columns):\n",
      " #   Column              Non-Null Count  Dtype         \n",
      "---  ------              --------------  -----         \n",
      " 0   video_id            8755 non-null   object        \n",
      " 1   title               8755 non-null   object        \n",
      " 2   publishedAt         8755 non-null   object        \n",
      " 3   channelId           8755 non-null   object        \n",
      " 4   channelTitle        8755 non-null   object        \n",
      " 5   categoryId          8755 non-null   int64         \n",
      " 6   trending_date       8755 non-null   object        \n",
      " 7   tags                8755 non-null   object        \n",
      " 8   view_count          8755 non-null   int64         \n",
      " 9   likes               8755 non-null   int64         \n",
      " 10  dislikes            8755 non-null   int64         \n",
      " 11  comment_count       8755 non-null   int64         \n",
      " 12  thumbnail_link      8755 non-null   object        \n",
      " 13  comments_disabled   8755 non-null   bool          \n",
      " 14  ratings_disabled    8755 non-null   bool          \n",
      " 15  description         8755 non-null   object        \n",
      " 16  description_length  8755 non-null   int64         \n",
      " 17  publish_date        8755 non-null   datetime64[ns]\n",
      " 18  trend_date          8755 non-null   datetime64[ns]\n",
      "dtypes: bool(2), datetime64[ns](2), int64(6), object(9)\n",
      "memory usage: 1.2+ MB\n"
     ]
    }
   ],
   "source": [
    "df.info()"
   ]
  },
  {
   "cell_type": "markdown",
   "id": "798c6207",
   "metadata": {},
   "source": [
    "---"
   ]
  },
  {
   "cell_type": "markdown",
   "id": "4044b670",
   "metadata": {},
   "source": [
    "## 3. 머신러닝 모델링"
   ]
  },
  {
   "cell_type": "markdown",
   "id": "21d4b382",
   "metadata": {},
   "source": [
    "### 3-1. 학습 데이터 분리"
   ]
  },
  {
   "cell_type": "code",
   "execution_count": 16,
   "id": "1a033f1a",
   "metadata": {},
   "outputs": [],
   "source": [
    "X_input = df[['likes', 'dislikes', 'comment_count','description_length']]\n",
    "y_output = df['view_count']"
   ]
  },
  {
   "cell_type": "code",
   "execution_count": 17,
   "id": "b08df2d4",
   "metadata": {},
   "outputs": [],
   "source": [
    "X_train, X_test, y_train, y_test = train_test_split(X_input, y_output, random_state=22)"
   ]
  },
  {
   "cell_type": "markdown",
   "id": "d770c13e",
   "metadata": {},
   "source": [
    "### 3-2. 머신러닝 모델 학습 및 예측"
   ]
  },
  {
   "cell_type": "code",
   "execution_count": 18,
   "id": "243e0725",
   "metadata": {},
   "outputs": [],
   "source": [
    "model = RandomForestRegressor(random_state=22)"
   ]
  },
  {
   "cell_type": "code",
   "execution_count": 19,
   "id": "2ff741bd",
   "metadata": {},
   "outputs": [
    {
     "data": {
      "text/html": [
       "<style>#sk-container-id-1 {color: black;background-color: white;}#sk-container-id-1 pre{padding: 0;}#sk-container-id-1 div.sk-toggleable {background-color: white;}#sk-container-id-1 label.sk-toggleable__label {cursor: pointer;display: block;width: 100%;margin-bottom: 0;padding: 0.3em;box-sizing: border-box;text-align: center;}#sk-container-id-1 label.sk-toggleable__label-arrow:before {content: \"▸\";float: left;margin-right: 0.25em;color: #696969;}#sk-container-id-1 label.sk-toggleable__label-arrow:hover:before {color: black;}#sk-container-id-1 div.sk-estimator:hover label.sk-toggleable__label-arrow:before {color: black;}#sk-container-id-1 div.sk-toggleable__content {max-height: 0;max-width: 0;overflow: hidden;text-align: left;background-color: #f0f8ff;}#sk-container-id-1 div.sk-toggleable__content pre {margin: 0.2em;color: black;border-radius: 0.25em;background-color: #f0f8ff;}#sk-container-id-1 input.sk-toggleable__control:checked~div.sk-toggleable__content {max-height: 200px;max-width: 100%;overflow: auto;}#sk-container-id-1 input.sk-toggleable__control:checked~label.sk-toggleable__label-arrow:before {content: \"▾\";}#sk-container-id-1 div.sk-estimator input.sk-toggleable__control:checked~label.sk-toggleable__label {background-color: #d4ebff;}#sk-container-id-1 div.sk-label input.sk-toggleable__control:checked~label.sk-toggleable__label {background-color: #d4ebff;}#sk-container-id-1 input.sk-hidden--visually {border: 0;clip: rect(1px 1px 1px 1px);clip: rect(1px, 1px, 1px, 1px);height: 1px;margin: -1px;overflow: hidden;padding: 0;position: absolute;width: 1px;}#sk-container-id-1 div.sk-estimator {font-family: monospace;background-color: #f0f8ff;border: 1px dotted black;border-radius: 0.25em;box-sizing: border-box;margin-bottom: 0.5em;}#sk-container-id-1 div.sk-estimator:hover {background-color: #d4ebff;}#sk-container-id-1 div.sk-parallel-item::after {content: \"\";width: 100%;border-bottom: 1px solid gray;flex-grow: 1;}#sk-container-id-1 div.sk-label:hover label.sk-toggleable__label {background-color: #d4ebff;}#sk-container-id-1 div.sk-serial::before {content: \"\";position: absolute;border-left: 1px solid gray;box-sizing: border-box;top: 0;bottom: 0;left: 50%;z-index: 0;}#sk-container-id-1 div.sk-serial {display: flex;flex-direction: column;align-items: center;background-color: white;padding-right: 0.2em;padding-left: 0.2em;position: relative;}#sk-container-id-1 div.sk-item {position: relative;z-index: 1;}#sk-container-id-1 div.sk-parallel {display: flex;align-items: stretch;justify-content: center;background-color: white;position: relative;}#sk-container-id-1 div.sk-item::before, #sk-container-id-1 div.sk-parallel-item::before {content: \"\";position: absolute;border-left: 1px solid gray;box-sizing: border-box;top: 0;bottom: 0;left: 50%;z-index: -1;}#sk-container-id-1 div.sk-parallel-item {display: flex;flex-direction: column;z-index: 1;position: relative;background-color: white;}#sk-container-id-1 div.sk-parallel-item:first-child::after {align-self: flex-end;width: 50%;}#sk-container-id-1 div.sk-parallel-item:last-child::after {align-self: flex-start;width: 50%;}#sk-container-id-1 div.sk-parallel-item:only-child::after {width: 0;}#sk-container-id-1 div.sk-dashed-wrapped {border: 1px dashed gray;margin: 0 0.4em 0.5em 0.4em;box-sizing: border-box;padding-bottom: 0.4em;background-color: white;}#sk-container-id-1 div.sk-label label {font-family: monospace;font-weight: bold;display: inline-block;line-height: 1.2em;}#sk-container-id-1 div.sk-label-container {text-align: center;}#sk-container-id-1 div.sk-container {/* jupyter's `normalize.less` sets `[hidden] { display: none; }` but bootstrap.min.css set `[hidden] { display: none !important; }` so we also need the `!important` here to be able to override the default hidden behavior on the sphinx rendered scikit-learn.org. See: https://github.com/scikit-learn/scikit-learn/issues/21755 */display: inline-block !important;position: relative;}#sk-container-id-1 div.sk-text-repr-fallback {display: none;}</style><div id=\"sk-container-id-1\" class=\"sk-top-container\"><div class=\"sk-text-repr-fallback\"><pre>RandomForestRegressor(random_state=22)</pre><b>In a Jupyter environment, please rerun this cell to show the HTML representation or trust the notebook. <br />On GitHub, the HTML representation is unable to render, please try loading this page with nbviewer.org.</b></div><div class=\"sk-container\" hidden><div class=\"sk-item\"><div class=\"sk-estimator sk-toggleable\"><input class=\"sk-toggleable__control sk-hidden--visually\" id=\"sk-estimator-id-1\" type=\"checkbox\" checked><label for=\"sk-estimator-id-1\" class=\"sk-toggleable__label sk-toggleable__label-arrow\">RandomForestRegressor</label><div class=\"sk-toggleable__content\"><pre>RandomForestRegressor(random_state=22)</pre></div></div></div></div></div>"
      ],
      "text/plain": [
       "RandomForestRegressor(random_state=22)"
      ]
     },
     "execution_count": 19,
     "metadata": {},
     "output_type": "execute_result"
    }
   ],
   "source": [
    "model.fit(X_train, y_train)"
   ]
  },
  {
   "cell_type": "code",
   "execution_count": 20,
   "id": "662ac61a",
   "metadata": {},
   "outputs": [],
   "source": [
    "y_train_pred = model.predict(X_train)\n",
    "y_test_pred = model.predict(X_test)"
   ]
  },
  {
   "cell_type": "code",
   "execution_count": 21,
   "id": "4ff16e97",
   "metadata": {},
   "outputs": [
    {
     "name": "stdout",
     "output_type": "stream",
     "text": [
      "Train score: 0.9967250694793485\n",
      "Test score: 0.9694462349547971\n"
     ]
    }
   ],
   "source": [
    "train_score = r2_score(y_train_pred, y_train)\n",
    "print('Train score:', train_score)\n",
    "\n",
    "test_score = r2_score(y_test_pred, y_test)\n",
    "print('Test score:', test_score)"
   ]
  },
  {
   "cell_type": "markdown",
   "id": "6873409f",
   "metadata": {},
   "source": [
    "---"
   ]
  },
  {
   "cell_type": "markdown",
   "id": "07632d4e",
   "metadata": {},
   "source": [
    "## 4. 결과 정리"
   ]
  },
  {
   "cell_type": "markdown",
   "id": "94f124f9",
   "metadata": {},
   "source": [
    "### 4-1. 주요 특성 정리"
   ]
  },
  {
   "cell_type": "code",
   "execution_count": 22,
   "id": "2abadef3",
   "metadata": {},
   "outputs": [],
   "source": [
    "importances = model.feature_importances_"
   ]
  },
  {
   "cell_type": "code",
   "execution_count": 23,
   "id": "467ca75c",
   "metadata": {},
   "outputs": [
    {
     "data": {
      "text/plain": [
       "array([0.74375227, 0.09816467, 0.11577721, 0.04230585])"
      ]
     },
     "execution_count": 23,
     "metadata": {},
     "output_type": "execute_result"
    }
   ],
   "source": [
    "importances"
   ]
  },
  {
   "cell_type": "markdown",
   "id": "4a3e799b",
   "metadata": {},
   "source": [
    "### 4-2. 예측 결과 시각화"
   ]
  },
  {
   "cell_type": "code",
   "execution_count": 24,
   "id": "89a25ac4",
   "metadata": {},
   "outputs": [],
   "source": [
    "features = ['likes', 'dislikes', 'comment_count','description_length']"
   ]
  },
  {
   "cell_type": "code",
   "execution_count": 25,
   "id": "21d498cc",
   "metadata": {},
   "outputs": [
    {
     "data": {
      "image/png": "[encoded data removed]",
      "text/plain": [
       "<Figure size 432x288 with 1 Axes>"
      ]
     },
     "metadata": {
      "needs_background": "light"
     },
     "output_type": "display_data"
    }
   ],
   "source": [
    "forest_importances = pd.Series(importances, index=features)\n",
    "forest_importances = forest_importances.sort_values(ascending=False)\n",
    "\n",
    "fig, ax = plt.subplots()\n",
    "forest_importances.plot.bar(ax=ax);"
   ]
  }
 ],
 "metadata": {
  "kernelspec": {
   "display_name": "Python 3 (ipykernel)",
   "language": "python",
   "name": "python3"
  },
  "language_info": {
   "codemirror_mode": {
    "name": "ipython",
    "version": 3
   },
   "file_extension": ".py",
   "mimetype": "text/x-python",
   "name": "python",
   "nbconvert_exporter": "python",
   "pygments_lexer": "ipython3",
   "version": "3.9.7"
  }
 },
 "nbformat": 4,
 "nbformat_minor": 5
}
